{
 "cells": [
  {
   "cell_type": "code",
   "execution_count": 3,
   "metadata": {
    "collapsed": false
   },
   "outputs": [],
   "source": [
    "# Importing the required data\n",
    "import numpy as np\n",
    "import pandas as pd\n",
    "import matplotlib.pyplot as plt\n",
    "from sklearn.linear_model import LinearRegression\n",
    "from sklearn.model_selection import KFold\n",
    "from sklearn.metrics import mean_squared_error\n"
   ]
  },
  {
   "cell_type": "code",
   "execution_count": 4,
   "metadata": {
    "collapsed": false
   },
   "outputs": [
    {
     "data": {
      "text/html": [
       "<div>\n",
       "<style scoped>\n",
       "    .dataframe tbody tr th:only-of-type {\n",
       "        vertical-align: middle;\n",
       "    }\n",
       "\n",
       "    .dataframe tbody tr th {\n",
       "        vertical-align: top;\n",
       "    }\n",
       "\n",
       "    .dataframe thead th {\n",
       "        text-align: right;\n",
       "    }\n",
       "</style>\n",
       "<table border=\"1\" class=\"dataframe\">\n",
       "  <thead>\n",
       "    <tr style=\"text-align: right;\">\n",
       "      <th></th>\n",
       "      <th>Order</th>\n",
       "      <th>PID</th>\n",
       "      <th>MS SubClass</th>\n",
       "      <th>MS Zoning</th>\n",
       "      <th>Lot Frontage</th>\n",
       "      <th>Lot Area</th>\n",
       "      <th>Street</th>\n",
       "      <th>Alley</th>\n",
       "      <th>Lot Shape</th>\n",
       "      <th>Land Contour</th>\n",
       "      <th>...</th>\n",
       "      <th>Pool Area</th>\n",
       "      <th>Pool QC</th>\n",
       "      <th>Fence</th>\n",
       "      <th>Misc Feature</th>\n",
       "      <th>Misc Val</th>\n",
       "      <th>Mo Sold</th>\n",
       "      <th>Yr Sold</th>\n",
       "      <th>Sale Type</th>\n",
       "      <th>Sale Condition</th>\n",
       "      <th>SalePrice</th>\n",
       "    </tr>\n",
       "  </thead>\n",
       "  <tbody>\n",
       "    <tr>\n",
       "      <th>0</th>\n",
       "      <td>1</td>\n",
       "      <td>526301100</td>\n",
       "      <td>20</td>\n",
       "      <td>RL</td>\n",
       "      <td>141.0</td>\n",
       "      <td>31770</td>\n",
       "      <td>Pave</td>\n",
       "      <td>NaN</td>\n",
       "      <td>IR1</td>\n",
       "      <td>Lvl</td>\n",
       "      <td>...</td>\n",
       "      <td>0</td>\n",
       "      <td>NaN</td>\n",
       "      <td>NaN</td>\n",
       "      <td>NaN</td>\n",
       "      <td>0</td>\n",
       "      <td>5</td>\n",
       "      <td>2010</td>\n",
       "      <td>WD</td>\n",
       "      <td>Normal</td>\n",
       "      <td>215000</td>\n",
       "    </tr>\n",
       "    <tr>\n",
       "      <th>1</th>\n",
       "      <td>2</td>\n",
       "      <td>526350040</td>\n",
       "      <td>20</td>\n",
       "      <td>RH</td>\n",
       "      <td>80.0</td>\n",
       "      <td>11622</td>\n",
       "      <td>Pave</td>\n",
       "      <td>NaN</td>\n",
       "      <td>Reg</td>\n",
       "      <td>Lvl</td>\n",
       "      <td>...</td>\n",
       "      <td>0</td>\n",
       "      <td>NaN</td>\n",
       "      <td>MnPrv</td>\n",
       "      <td>NaN</td>\n",
       "      <td>0</td>\n",
       "      <td>6</td>\n",
       "      <td>2010</td>\n",
       "      <td>WD</td>\n",
       "      <td>Normal</td>\n",
       "      <td>105000</td>\n",
       "    </tr>\n",
       "    <tr>\n",
       "      <th>2</th>\n",
       "      <td>3</td>\n",
       "      <td>526351010</td>\n",
       "      <td>20</td>\n",
       "      <td>RL</td>\n",
       "      <td>81.0</td>\n",
       "      <td>14267</td>\n",
       "      <td>Pave</td>\n",
       "      <td>NaN</td>\n",
       "      <td>IR1</td>\n",
       "      <td>Lvl</td>\n",
       "      <td>...</td>\n",
       "      <td>0</td>\n",
       "      <td>NaN</td>\n",
       "      <td>NaN</td>\n",
       "      <td>Gar2</td>\n",
       "      <td>12500</td>\n",
       "      <td>6</td>\n",
       "      <td>2010</td>\n",
       "      <td>WD</td>\n",
       "      <td>Normal</td>\n",
       "      <td>172000</td>\n",
       "    </tr>\n",
       "    <tr>\n",
       "      <th>3</th>\n",
       "      <td>4</td>\n",
       "      <td>526353030</td>\n",
       "      <td>20</td>\n",
       "      <td>RL</td>\n",
       "      <td>93.0</td>\n",
       "      <td>11160</td>\n",
       "      <td>Pave</td>\n",
       "      <td>NaN</td>\n",
       "      <td>Reg</td>\n",
       "      <td>Lvl</td>\n",
       "      <td>...</td>\n",
       "      <td>0</td>\n",
       "      <td>NaN</td>\n",
       "      <td>NaN</td>\n",
       "      <td>NaN</td>\n",
       "      <td>0</td>\n",
       "      <td>4</td>\n",
       "      <td>2010</td>\n",
       "      <td>WD</td>\n",
       "      <td>Normal</td>\n",
       "      <td>244000</td>\n",
       "    </tr>\n",
       "    <tr>\n",
       "      <th>4</th>\n",
       "      <td>5</td>\n",
       "      <td>527105010</td>\n",
       "      <td>60</td>\n",
       "      <td>RL</td>\n",
       "      <td>74.0</td>\n",
       "      <td>13830</td>\n",
       "      <td>Pave</td>\n",
       "      <td>NaN</td>\n",
       "      <td>IR1</td>\n",
       "      <td>Lvl</td>\n",
       "      <td>...</td>\n",
       "      <td>0</td>\n",
       "      <td>NaN</td>\n",
       "      <td>MnPrv</td>\n",
       "      <td>NaN</td>\n",
       "      <td>0</td>\n",
       "      <td>3</td>\n",
       "      <td>2010</td>\n",
       "      <td>WD</td>\n",
       "      <td>Normal</td>\n",
       "      <td>189900</td>\n",
       "    </tr>\n",
       "  </tbody>\n",
       "</table>\n",
       "<p>5 rows × 82 columns</p>\n",
       "</div>"
      ],
      "text/plain": [
       "   Order        PID  MS SubClass MS Zoning  Lot Frontage  Lot Area Street  \\\n",
       "0      1  526301100           20        RL         141.0     31770   Pave   \n",
       "1      2  526350040           20        RH          80.0     11622   Pave   \n",
       "2      3  526351010           20        RL          81.0     14267   Pave   \n",
       "3      4  526353030           20        RL          93.0     11160   Pave   \n",
       "4      5  527105010           60        RL          74.0     13830   Pave   \n",
       "\n",
       "  Alley Lot Shape Land Contour    ...     Pool Area Pool QC  Fence  \\\n",
       "0   NaN       IR1          Lvl    ...             0     NaN    NaN   \n",
       "1   NaN       Reg          Lvl    ...             0     NaN  MnPrv   \n",
       "2   NaN       IR1          Lvl    ...             0     NaN    NaN   \n",
       "3   NaN       Reg          Lvl    ...             0     NaN    NaN   \n",
       "4   NaN       IR1          Lvl    ...             0     NaN  MnPrv   \n",
       "\n",
       "  Misc Feature Misc Val Mo Sold Yr Sold Sale Type  Sale Condition  SalePrice  \n",
       "0          NaN        0       5    2010       WD           Normal     215000  \n",
       "1          NaN        0       6    2010       WD           Normal     105000  \n",
       "2         Gar2    12500       6    2010       WD           Normal     172000  \n",
       "3          NaN        0       4    2010       WD           Normal     244000  \n",
       "4          NaN        0       3    2010       WD           Normal     189900  \n",
       "\n",
       "[5 rows x 82 columns]"
      ]
     },
     "execution_count": 4,
     "metadata": {},
     "output_type": "execute_result"
    }
   ],
   "source": [
    "# Reading the data into a data frame\n",
    "house_df = pd.read_csv('AmesHousing.tsv', delimiter='\\t')\n",
    "house_df.head(5)"
   ]
  },
  {
   "cell_type": "code",
   "execution_count": 5,
   "metadata": {
    "collapsed": false
   },
   "outputs": [],
   "source": [
    "def transform_features(df):\n",
    "    return df"
   ]
  },
  {
   "cell_type": "code",
   "execution_count": 6,
   "metadata": {
    "collapsed": true
   },
   "outputs": [],
   "source": [
    "def select_features(df):\n",
    "    return df[['Gr Liv Area', 'SalePrice']]"
   ]
  },
  {
   "cell_type": "code",
   "execution_count": 7,
   "metadata": {
    "collapsed": true
   },
   "outputs": [],
   "source": [
    "def train_and_test(df):\n",
    "    # Splitting dataset into train and test data\n",
    "    train = df.iloc[:1460,:]\n",
    "    test = df.iloc[1460:, :]\n",
    "    \n",
    "    # Target for the training and testing\n",
    "    target = 'SalePrice'\n",
    "    \n",
    "    # creating a model\n",
    "    lr = LinearRegression()\n",
    "    \n",
    "    # training the model\n",
    "    lr.fit(train[['Gr Liv Area']], train[target])\n",
    "    \n",
    "    # predicting with the model\n",
    "    test_predictions = lr.predict(test[['Gr Liv Area']])\n",
    "    \n",
    "    # calculating the rmse\n",
    "    rmse = np.sqrt(mean_squared_error(test[target], test_predictions))\n",
    "    \n",
    "    return rmse\n",
    "    "
   ]
  },
  {
   "cell_type": "code",
   "execution_count": 8,
   "metadata": {
    "collapsed": false
   },
   "outputs": [
    {
     "data": {
      "text/plain": [
       "57088.25161263909"
      ]
     },
     "execution_count": 8,
     "metadata": {},
     "output_type": "execute_result"
    }
   ],
   "source": [
    "transformed_df = transform_features(house_df)\n",
    "filtered_df = select_features(transformed_df)\n",
    "rmse = train_and_test(transformed_df)\n",
    "\n",
    "rmse"
   ]
  },
  {
   "cell_type": "markdown",
   "metadata": {},
   "source": [
    "# Feature Engineering"
   ]
  },
  {
   "cell_type": "code",
   "execution_count": 9,
   "metadata": {
    "collapsed": false
   },
   "outputs": [],
   "source": [
    "# Series Object => Column name -> Number of missing values\n",
    "null_series = house_df.isnull().sum()"
   ]
  },
  {
   "cell_type": "code",
   "execution_count": 10,
   "metadata": {
    "collapsed": false
   },
   "outputs": [],
   "source": [
    "# finding the columns to drop that has more than 5% missing values\n",
    "columns_to_drop = null_series[ null_series > len(house_df)/20 ]"
   ]
  },
  {
   "cell_type": "code",
   "execution_count": 11,
   "metadata": {
    "collapsed": true
   },
   "outputs": [],
   "source": [
    "# Dropping the columns that has more than 5% missing values\n",
    "house_df = house_df.drop(columns_to_drop.index, axis = 1)"
   ]
  },
  {
   "cell_type": "code",
   "execution_count": 12,
   "metadata": {
    "collapsed": false
   },
   "outputs": [],
   "source": [
    "# Finding the numerical columns and assigning them to a series\n",
    "numerical_null_counts = house_df.select_dtypes(['int', 'float']).isnull().sum()"
   ]
  },
  {
   "cell_type": "code",
   "execution_count": 13,
   "metadata": {
    "collapsed": false
   },
   "outputs": [],
   "source": [
    "numerical_null_counts = numerical_null_counts[numerical_null_counts > 0]"
   ]
  },
  {
   "cell_type": "code",
   "execution_count": 14,
   "metadata": {
    "collapsed": false
   },
   "outputs": [
    {
     "data": {
      "text/plain": [
       "Mas Vnr Area      23\n",
       "BsmtFin SF 1       1\n",
       "BsmtFin SF 2       1\n",
       "Bsmt Unf SF        1\n",
       "Total Bsmt SF      1\n",
       "Bsmt Full Bath     2\n",
       "Bsmt Half Bath     2\n",
       "Garage Cars        1\n",
       "Garage Area        1\n",
       "dtype: int64"
      ]
     },
     "execution_count": 14,
     "metadata": {},
     "output_type": "execute_result"
    }
   ],
   "source": [
    "numerical_null_counts"
   ]
  },
  {
   "cell_type": "code",
   "execution_count": 15,
   "metadata": {
    "collapsed": false
   },
   "outputs": [],
   "source": [
    "# Calculating the mode of each of the columns\n",
    "mode_df = house_df[numerical_null_counts.index].mode()"
   ]
  },
  {
   "cell_type": "code",
   "execution_count": 16,
   "metadata": {
    "collapsed": false
   },
   "outputs": [],
   "source": [
    "# Creating a dictionary from the mode_df\n",
    "mode_dict = mode_df.to_dict(orient='records')[0]"
   ]
  },
  {
   "cell_type": "code",
   "execution_count": 17,
   "metadata": {
    "collapsed": false
   },
   "outputs": [],
   "source": [
    "# replacing the missing values of the numerical columns by this way\n",
    "house_df = house_df.fillna(value=mode_dict)"
   ]
  },
  {
   "cell_type": "code",
   "execution_count": 18,
   "metadata": {
    "collapsed": false
   },
   "outputs": [
    {
     "data": {
      "text/plain": [
       "Order              0\n",
       "PID                0\n",
       "MS SubClass        0\n",
       "Lot Area           0\n",
       "Overall Qual       0\n",
       "Overall Cond       0\n",
       "Year Built         0\n",
       "Year Remod/Add     0\n",
       "Mas Vnr Area       0\n",
       "BsmtFin SF 1       0\n",
       "BsmtFin SF 2       0\n",
       "Bsmt Unf SF        0\n",
       "Total Bsmt SF      0\n",
       "1st Flr SF         0\n",
       "2nd Flr SF         0\n",
       "Low Qual Fin SF    0\n",
       "Gr Liv Area        0\n",
       "Bsmt Full Bath     0\n",
       "Bsmt Half Bath     0\n",
       "Full Bath          0\n",
       "Half Bath          0\n",
       "Bedroom AbvGr      0\n",
       "Kitchen AbvGr      0\n",
       "TotRms AbvGrd      0\n",
       "Fireplaces         0\n",
       "Garage Cars        0\n",
       "Garage Area        0\n",
       "Wood Deck SF       0\n",
       "Open Porch SF      0\n",
       "Enclosed Porch     0\n",
       "3Ssn Porch         0\n",
       "Screen Porch       0\n",
       "Pool Area          0\n",
       "Misc Val           0\n",
       "Mo Sold            0\n",
       "Yr Sold            0\n",
       "SalePrice          0\n",
       "dtype: int64"
      ]
     },
     "execution_count": 18,
     "metadata": {},
     "output_type": "execute_result"
    }
   ],
   "source": [
    "house_df.select_dtypes(['int', 'float']).isnull().sum()"
   ]
  },
  {
   "cell_type": "markdown",
   "metadata": {
    "collapsed": true
   },
   "source": [
    "What are some new feature that we can calculate to capture more information about other feature?"
   ]
  },
  {
   "cell_type": "code",
   "execution_count": 19,
   "metadata": {
    "collapsed": false
   },
   "outputs": [],
   "source": [
    "years_until_remod = house_df['Year Remod/Add'] - house_df['Year Built']"
   ]
  },
  {
   "cell_type": "code",
   "execution_count": 20,
   "metadata": {
    "collapsed": false
   },
   "outputs": [],
   "source": [
    "house_df['years_until_remod'] = years_until_remod"
   ]
  },
  {
   "cell_type": "code",
   "execution_count": 21,
   "metadata": {
    "collapsed": false
   },
   "outputs": [],
   "source": [
    "years_before_selling = house_df['Yr Sold'] - house_df['Year Built']"
   ]
  },
  {
   "cell_type": "code",
   "execution_count": 22,
   "metadata": {
    "collapsed": false
   },
   "outputs": [
    {
     "data": {
      "text/plain": [
       "2180   -1\n",
       "dtype: int64"
      ]
     },
     "execution_count": 22,
     "metadata": {},
     "output_type": "execute_result"
    }
   ],
   "source": [
    "years_before_selling[years_before_selling < 0]"
   ]
  },
  {
   "cell_type": "code",
   "execution_count": 23,
   "metadata": {
    "collapsed": true
   },
   "outputs": [],
   "source": [
    "house_df['years_before_selling'] = years_before_selling"
   ]
  },
  {
   "cell_type": "code",
   "execution_count": 24,
   "metadata": {
    "collapsed": true
   },
   "outputs": [],
   "source": [
    "years_after_mod = house_df['Yr Sold'] - house_df['Year Remod/Add']"
   ]
  },
  {
   "cell_type": "code",
   "execution_count": 25,
   "metadata": {
    "collapsed": false
   },
   "outputs": [
    {
     "data": {
      "text/plain": [
       "1702   -1\n",
       "2180   -2\n",
       "2181   -1\n",
       "dtype: int64"
      ]
     },
     "execution_count": 25,
     "metadata": {},
     "output_type": "execute_result"
    }
   ],
   "source": [
    "years_after_mod[years_after_mod < 0]"
   ]
  },
  {
   "cell_type": "code",
   "execution_count": 26,
   "metadata": {
    "collapsed": true
   },
   "outputs": [],
   "source": [
    "house_df['years_after_mod'] = years_after_mod"
   ]
  },
  {
   "cell_type": "code",
   "execution_count": 27,
   "metadata": {
    "collapsed": false
   },
   "outputs": [
    {
     "name": "stdout",
     "output_type": "stream",
     "text": [
      "<class 'pandas.core.frame.DataFrame'>\n",
      "RangeIndex: 2930 entries, 0 to 2929\n",
      "Data columns (total 74 columns):\n",
      "Order                   2930 non-null int64\n",
      "PID                     2930 non-null int64\n",
      "MS SubClass             2930 non-null int64\n",
      "MS Zoning               2930 non-null object\n",
      "Lot Area                2930 non-null int64\n",
      "Street                  2930 non-null object\n",
      "Lot Shape               2930 non-null object\n",
      "Land Contour            2930 non-null object\n",
      "Utilities               2930 non-null object\n",
      "Lot Config              2930 non-null object\n",
      "Land Slope              2930 non-null object\n",
      "Neighborhood            2930 non-null object\n",
      "Condition 1             2930 non-null object\n",
      "Condition 2             2930 non-null object\n",
      "Bldg Type               2930 non-null object\n",
      "House Style             2930 non-null object\n",
      "Overall Qual            2930 non-null int64\n",
      "Overall Cond            2930 non-null int64\n",
      "Year Built              2930 non-null int64\n",
      "Year Remod/Add          2930 non-null int64\n",
      "Roof Style              2930 non-null object\n",
      "Roof Matl               2930 non-null object\n",
      "Exterior 1st            2930 non-null object\n",
      "Exterior 2nd            2930 non-null object\n",
      "Mas Vnr Type            2907 non-null object\n",
      "Mas Vnr Area            2930 non-null float64\n",
      "Exter Qual              2930 non-null object\n",
      "Exter Cond              2930 non-null object\n",
      "Foundation              2930 non-null object\n",
      "Bsmt Qual               2850 non-null object\n",
      "Bsmt Cond               2850 non-null object\n",
      "Bsmt Exposure           2847 non-null object\n",
      "BsmtFin Type 1          2850 non-null object\n",
      "BsmtFin SF 1            2930 non-null float64\n",
      "BsmtFin Type 2          2849 non-null object\n",
      "BsmtFin SF 2            2930 non-null float64\n",
      "Bsmt Unf SF             2930 non-null float64\n",
      "Total Bsmt SF           2930 non-null float64\n",
      "Heating                 2930 non-null object\n",
      "Heating QC              2930 non-null object\n",
      "Central Air             2930 non-null object\n",
      "Electrical              2929 non-null object\n",
      "1st Flr SF              2930 non-null int64\n",
      "2nd Flr SF              2930 non-null int64\n",
      "Low Qual Fin SF         2930 non-null int64\n",
      "Gr Liv Area             2930 non-null int64\n",
      "Bsmt Full Bath          2930 non-null float64\n",
      "Bsmt Half Bath          2930 non-null float64\n",
      "Full Bath               2930 non-null int64\n",
      "Half Bath               2930 non-null int64\n",
      "Bedroom AbvGr           2930 non-null int64\n",
      "Kitchen AbvGr           2930 non-null int64\n",
      "Kitchen Qual            2930 non-null object\n",
      "TotRms AbvGrd           2930 non-null int64\n",
      "Functional              2930 non-null object\n",
      "Fireplaces              2930 non-null int64\n",
      "Garage Cars             2930 non-null float64\n",
      "Garage Area             2930 non-null float64\n",
      "Paved Drive             2930 non-null object\n",
      "Wood Deck SF            2930 non-null int64\n",
      "Open Porch SF           2930 non-null int64\n",
      "Enclosed Porch          2930 non-null int64\n",
      "3Ssn Porch              2930 non-null int64\n",
      "Screen Porch            2930 non-null int64\n",
      "Pool Area               2930 non-null int64\n",
      "Misc Val                2930 non-null int64\n",
      "Mo Sold                 2930 non-null int64\n",
      "Yr Sold                 2930 non-null int64\n",
      "Sale Type               2930 non-null object\n",
      "Sale Condition          2930 non-null object\n",
      "SalePrice               2930 non-null int64\n",
      "years_until_remod       2930 non-null int64\n",
      "years_before_selling    2930 non-null int64\n",
      "years_after_mod         2930 non-null int64\n",
      "dtypes: float64(9), int64(31), object(34)\n",
      "memory usage: 1.7+ MB\n"
     ]
    }
   ],
   "source": [
    "house_df.info()"
   ]
  },
  {
   "cell_type": "code",
   "execution_count": 28,
   "metadata": {
    "collapsed": true
   },
   "outputs": [],
   "source": [
    "# Dropping specific rows of the dataframe because there is negative value\n",
    "house_df = house_df.drop([1702,2180,2181], axis=0)"
   ]
  },
  {
   "cell_type": "code",
   "execution_count": 29,
   "metadata": {
    "collapsed": false
   },
   "outputs": [
    {
     "name": "stdout",
     "output_type": "stream",
     "text": [
      "<class 'pandas.core.frame.DataFrame'>\n",
      "Int64Index: 2927 entries, 0 to 2929\n",
      "Data columns (total 74 columns):\n",
      "Order                   2927 non-null int64\n",
      "PID                     2927 non-null int64\n",
      "MS SubClass             2927 non-null int64\n",
      "MS Zoning               2927 non-null object\n",
      "Lot Area                2927 non-null int64\n",
      "Street                  2927 non-null object\n",
      "Lot Shape               2927 non-null object\n",
      "Land Contour            2927 non-null object\n",
      "Utilities               2927 non-null object\n",
      "Lot Config              2927 non-null object\n",
      "Land Slope              2927 non-null object\n",
      "Neighborhood            2927 non-null object\n",
      "Condition 1             2927 non-null object\n",
      "Condition 2             2927 non-null object\n",
      "Bldg Type               2927 non-null object\n",
      "House Style             2927 non-null object\n",
      "Overall Qual            2927 non-null int64\n",
      "Overall Cond            2927 non-null int64\n",
      "Year Built              2927 non-null int64\n",
      "Year Remod/Add          2927 non-null int64\n",
      "Roof Style              2927 non-null object\n",
      "Roof Matl               2927 non-null object\n",
      "Exterior 1st            2927 non-null object\n",
      "Exterior 2nd            2927 non-null object\n",
      "Mas Vnr Type            2904 non-null object\n",
      "Mas Vnr Area            2927 non-null float64\n",
      "Exter Qual              2927 non-null object\n",
      "Exter Cond              2927 non-null object\n",
      "Foundation              2927 non-null object\n",
      "Bsmt Qual               2847 non-null object\n",
      "Bsmt Cond               2847 non-null object\n",
      "Bsmt Exposure           2844 non-null object\n",
      "BsmtFin Type 1          2847 non-null object\n",
      "BsmtFin SF 1            2927 non-null float64\n",
      "BsmtFin Type 2          2846 non-null object\n",
      "BsmtFin SF 2            2927 non-null float64\n",
      "Bsmt Unf SF             2927 non-null float64\n",
      "Total Bsmt SF           2927 non-null float64\n",
      "Heating                 2927 non-null object\n",
      "Heating QC              2927 non-null object\n",
      "Central Air             2927 non-null object\n",
      "Electrical              2926 non-null object\n",
      "1st Flr SF              2927 non-null int64\n",
      "2nd Flr SF              2927 non-null int64\n",
      "Low Qual Fin SF         2927 non-null int64\n",
      "Gr Liv Area             2927 non-null int64\n",
      "Bsmt Full Bath          2927 non-null float64\n",
      "Bsmt Half Bath          2927 non-null float64\n",
      "Full Bath               2927 non-null int64\n",
      "Half Bath               2927 non-null int64\n",
      "Bedroom AbvGr           2927 non-null int64\n",
      "Kitchen AbvGr           2927 non-null int64\n",
      "Kitchen Qual            2927 non-null object\n",
      "TotRms AbvGrd           2927 non-null int64\n",
      "Functional              2927 non-null object\n",
      "Fireplaces              2927 non-null int64\n",
      "Garage Cars             2927 non-null float64\n",
      "Garage Area             2927 non-null float64\n",
      "Paved Drive             2927 non-null object\n",
      "Wood Deck SF            2927 non-null int64\n",
      "Open Porch SF           2927 non-null int64\n",
      "Enclosed Porch          2927 non-null int64\n",
      "3Ssn Porch              2927 non-null int64\n",
      "Screen Porch            2927 non-null int64\n",
      "Pool Area               2927 non-null int64\n",
      "Misc Val                2927 non-null int64\n",
      "Mo Sold                 2927 non-null int64\n",
      "Yr Sold                 2927 non-null int64\n",
      "Sale Type               2927 non-null object\n",
      "Sale Condition          2927 non-null object\n",
      "SalePrice               2927 non-null int64\n",
      "years_until_remod       2927 non-null int64\n",
      "years_before_selling    2927 non-null int64\n",
      "years_after_mod         2927 non-null int64\n",
      "dtypes: float64(9), int64(31), object(34)\n",
      "memory usage: 1.7+ MB\n"
     ]
    }
   ],
   "source": [
    "# Dropping the columns we don't need anymore\n",
    "house_df.info()"
   ]
  },
  {
   "cell_type": "code",
   "execution_count": 30,
   "metadata": {
    "collapsed": true
   },
   "outputs": [],
   "source": [
    "house_df = house_df.drop(['Yr Sold', 'Year Built', 'Year Remod/Add'], axis=1)"
   ]
  },
  {
   "cell_type": "code",
   "execution_count": 31,
   "metadata": {
    "collapsed": false
   },
   "outputs": [
    {
     "data": {
      "text/html": [
       "<div>\n",
       "<style scoped>\n",
       "    .dataframe tbody tr th:only-of-type {\n",
       "        vertical-align: middle;\n",
       "    }\n",
       "\n",
       "    .dataframe tbody tr th {\n",
       "        vertical-align: top;\n",
       "    }\n",
       "\n",
       "    .dataframe thead th {\n",
       "        text-align: right;\n",
       "    }\n",
       "</style>\n",
       "<table border=\"1\" class=\"dataframe\">\n",
       "  <thead>\n",
       "    <tr style=\"text-align: right;\">\n",
       "      <th></th>\n",
       "      <th>Order</th>\n",
       "      <th>PID</th>\n",
       "      <th>MS SubClass</th>\n",
       "      <th>MS Zoning</th>\n",
       "      <th>Lot Area</th>\n",
       "      <th>Street</th>\n",
       "      <th>Lot Shape</th>\n",
       "      <th>Land Contour</th>\n",
       "      <th>Utilities</th>\n",
       "      <th>Lot Config</th>\n",
       "      <th>...</th>\n",
       "      <th>Screen Porch</th>\n",
       "      <th>Pool Area</th>\n",
       "      <th>Misc Val</th>\n",
       "      <th>Mo Sold</th>\n",
       "      <th>Sale Type</th>\n",
       "      <th>Sale Condition</th>\n",
       "      <th>SalePrice</th>\n",
       "      <th>years_until_remod</th>\n",
       "      <th>years_before_selling</th>\n",
       "      <th>years_after_mod</th>\n",
       "    </tr>\n",
       "  </thead>\n",
       "  <tbody>\n",
       "    <tr>\n",
       "      <th>0</th>\n",
       "      <td>1</td>\n",
       "      <td>526301100</td>\n",
       "      <td>20</td>\n",
       "      <td>RL</td>\n",
       "      <td>31770</td>\n",
       "      <td>Pave</td>\n",
       "      <td>IR1</td>\n",
       "      <td>Lvl</td>\n",
       "      <td>AllPub</td>\n",
       "      <td>Corner</td>\n",
       "      <td>...</td>\n",
       "      <td>0</td>\n",
       "      <td>0</td>\n",
       "      <td>0</td>\n",
       "      <td>5</td>\n",
       "      <td>WD</td>\n",
       "      <td>Normal</td>\n",
       "      <td>215000</td>\n",
       "      <td>0</td>\n",
       "      <td>50</td>\n",
       "      <td>50</td>\n",
       "    </tr>\n",
       "    <tr>\n",
       "      <th>1</th>\n",
       "      <td>2</td>\n",
       "      <td>526350040</td>\n",
       "      <td>20</td>\n",
       "      <td>RH</td>\n",
       "      <td>11622</td>\n",
       "      <td>Pave</td>\n",
       "      <td>Reg</td>\n",
       "      <td>Lvl</td>\n",
       "      <td>AllPub</td>\n",
       "      <td>Inside</td>\n",
       "      <td>...</td>\n",
       "      <td>120</td>\n",
       "      <td>0</td>\n",
       "      <td>0</td>\n",
       "      <td>6</td>\n",
       "      <td>WD</td>\n",
       "      <td>Normal</td>\n",
       "      <td>105000</td>\n",
       "      <td>0</td>\n",
       "      <td>49</td>\n",
       "      <td>49</td>\n",
       "    </tr>\n",
       "    <tr>\n",
       "      <th>2</th>\n",
       "      <td>3</td>\n",
       "      <td>526351010</td>\n",
       "      <td>20</td>\n",
       "      <td>RL</td>\n",
       "      <td>14267</td>\n",
       "      <td>Pave</td>\n",
       "      <td>IR1</td>\n",
       "      <td>Lvl</td>\n",
       "      <td>AllPub</td>\n",
       "      <td>Corner</td>\n",
       "      <td>...</td>\n",
       "      <td>0</td>\n",
       "      <td>0</td>\n",
       "      <td>12500</td>\n",
       "      <td>6</td>\n",
       "      <td>WD</td>\n",
       "      <td>Normal</td>\n",
       "      <td>172000</td>\n",
       "      <td>0</td>\n",
       "      <td>52</td>\n",
       "      <td>52</td>\n",
       "    </tr>\n",
       "    <tr>\n",
       "      <th>3</th>\n",
       "      <td>4</td>\n",
       "      <td>526353030</td>\n",
       "      <td>20</td>\n",
       "      <td>RL</td>\n",
       "      <td>11160</td>\n",
       "      <td>Pave</td>\n",
       "      <td>Reg</td>\n",
       "      <td>Lvl</td>\n",
       "      <td>AllPub</td>\n",
       "      <td>Corner</td>\n",
       "      <td>...</td>\n",
       "      <td>0</td>\n",
       "      <td>0</td>\n",
       "      <td>0</td>\n",
       "      <td>4</td>\n",
       "      <td>WD</td>\n",
       "      <td>Normal</td>\n",
       "      <td>244000</td>\n",
       "      <td>0</td>\n",
       "      <td>42</td>\n",
       "      <td>42</td>\n",
       "    </tr>\n",
       "    <tr>\n",
       "      <th>4</th>\n",
       "      <td>5</td>\n",
       "      <td>527105010</td>\n",
       "      <td>60</td>\n",
       "      <td>RL</td>\n",
       "      <td>13830</td>\n",
       "      <td>Pave</td>\n",
       "      <td>IR1</td>\n",
       "      <td>Lvl</td>\n",
       "      <td>AllPub</td>\n",
       "      <td>Inside</td>\n",
       "      <td>...</td>\n",
       "      <td>0</td>\n",
       "      <td>0</td>\n",
       "      <td>0</td>\n",
       "      <td>3</td>\n",
       "      <td>WD</td>\n",
       "      <td>Normal</td>\n",
       "      <td>189900</td>\n",
       "      <td>1</td>\n",
       "      <td>13</td>\n",
       "      <td>12</td>\n",
       "    </tr>\n",
       "    <tr>\n",
       "      <th>5</th>\n",
       "      <td>6</td>\n",
       "      <td>527105030</td>\n",
       "      <td>60</td>\n",
       "      <td>RL</td>\n",
       "      <td>9978</td>\n",
       "      <td>Pave</td>\n",
       "      <td>IR1</td>\n",
       "      <td>Lvl</td>\n",
       "      <td>AllPub</td>\n",
       "      <td>Inside</td>\n",
       "      <td>...</td>\n",
       "      <td>0</td>\n",
       "      <td>0</td>\n",
       "      <td>0</td>\n",
       "      <td>6</td>\n",
       "      <td>WD</td>\n",
       "      <td>Normal</td>\n",
       "      <td>195500</td>\n",
       "      <td>0</td>\n",
       "      <td>12</td>\n",
       "      <td>12</td>\n",
       "    </tr>\n",
       "    <tr>\n",
       "      <th>6</th>\n",
       "      <td>7</td>\n",
       "      <td>527127150</td>\n",
       "      <td>120</td>\n",
       "      <td>RL</td>\n",
       "      <td>4920</td>\n",
       "      <td>Pave</td>\n",
       "      <td>Reg</td>\n",
       "      <td>Lvl</td>\n",
       "      <td>AllPub</td>\n",
       "      <td>Inside</td>\n",
       "      <td>...</td>\n",
       "      <td>0</td>\n",
       "      <td>0</td>\n",
       "      <td>0</td>\n",
       "      <td>4</td>\n",
       "      <td>WD</td>\n",
       "      <td>Normal</td>\n",
       "      <td>213500</td>\n",
       "      <td>0</td>\n",
       "      <td>9</td>\n",
       "      <td>9</td>\n",
       "    </tr>\n",
       "    <tr>\n",
       "      <th>7</th>\n",
       "      <td>8</td>\n",
       "      <td>527145080</td>\n",
       "      <td>120</td>\n",
       "      <td>RL</td>\n",
       "      <td>5005</td>\n",
       "      <td>Pave</td>\n",
       "      <td>IR1</td>\n",
       "      <td>HLS</td>\n",
       "      <td>AllPub</td>\n",
       "      <td>Inside</td>\n",
       "      <td>...</td>\n",
       "      <td>144</td>\n",
       "      <td>0</td>\n",
       "      <td>0</td>\n",
       "      <td>1</td>\n",
       "      <td>WD</td>\n",
       "      <td>Normal</td>\n",
       "      <td>191500</td>\n",
       "      <td>0</td>\n",
       "      <td>18</td>\n",
       "      <td>18</td>\n",
       "    </tr>\n",
       "    <tr>\n",
       "      <th>8</th>\n",
       "      <td>9</td>\n",
       "      <td>527146030</td>\n",
       "      <td>120</td>\n",
       "      <td>RL</td>\n",
       "      <td>5389</td>\n",
       "      <td>Pave</td>\n",
       "      <td>IR1</td>\n",
       "      <td>Lvl</td>\n",
       "      <td>AllPub</td>\n",
       "      <td>Inside</td>\n",
       "      <td>...</td>\n",
       "      <td>0</td>\n",
       "      <td>0</td>\n",
       "      <td>0</td>\n",
       "      <td>3</td>\n",
       "      <td>WD</td>\n",
       "      <td>Normal</td>\n",
       "      <td>236500</td>\n",
       "      <td>1</td>\n",
       "      <td>15</td>\n",
       "      <td>14</td>\n",
       "    </tr>\n",
       "    <tr>\n",
       "      <th>9</th>\n",
       "      <td>10</td>\n",
       "      <td>527162130</td>\n",
       "      <td>60</td>\n",
       "      <td>RL</td>\n",
       "      <td>7500</td>\n",
       "      <td>Pave</td>\n",
       "      <td>Reg</td>\n",
       "      <td>Lvl</td>\n",
       "      <td>AllPub</td>\n",
       "      <td>Inside</td>\n",
       "      <td>...</td>\n",
       "      <td>0</td>\n",
       "      <td>0</td>\n",
       "      <td>0</td>\n",
       "      <td>6</td>\n",
       "      <td>WD</td>\n",
       "      <td>Normal</td>\n",
       "      <td>189000</td>\n",
       "      <td>0</td>\n",
       "      <td>11</td>\n",
       "      <td>11</td>\n",
       "    </tr>\n",
       "  </tbody>\n",
       "</table>\n",
       "<p>10 rows × 71 columns</p>\n",
       "</div>"
      ],
      "text/plain": [
       "   Order        PID  MS SubClass MS Zoning  Lot Area Street Lot Shape  \\\n",
       "0      1  526301100           20        RL     31770   Pave       IR1   \n",
       "1      2  526350040           20        RH     11622   Pave       Reg   \n",
       "2      3  526351010           20        RL     14267   Pave       IR1   \n",
       "3      4  526353030           20        RL     11160   Pave       Reg   \n",
       "4      5  527105010           60        RL     13830   Pave       IR1   \n",
       "5      6  527105030           60        RL      9978   Pave       IR1   \n",
       "6      7  527127150          120        RL      4920   Pave       Reg   \n",
       "7      8  527145080          120        RL      5005   Pave       IR1   \n",
       "8      9  527146030          120        RL      5389   Pave       IR1   \n",
       "9     10  527162130           60        RL      7500   Pave       Reg   \n",
       "\n",
       "  Land Contour Utilities Lot Config       ...       Screen Porch Pool Area  \\\n",
       "0          Lvl    AllPub     Corner       ...                  0         0   \n",
       "1          Lvl    AllPub     Inside       ...                120         0   \n",
       "2          Lvl    AllPub     Corner       ...                  0         0   \n",
       "3          Lvl    AllPub     Corner       ...                  0         0   \n",
       "4          Lvl    AllPub     Inside       ...                  0         0   \n",
       "5          Lvl    AllPub     Inside       ...                  0         0   \n",
       "6          Lvl    AllPub     Inside       ...                  0         0   \n",
       "7          HLS    AllPub     Inside       ...                144         0   \n",
       "8          Lvl    AllPub     Inside       ...                  0         0   \n",
       "9          Lvl    AllPub     Inside       ...                  0         0   \n",
       "\n",
       "  Misc Val Mo Sold Sale Type Sale Condition  SalePrice  years_until_remod  \\\n",
       "0        0       5       WD          Normal     215000                  0   \n",
       "1        0       6       WD          Normal     105000                  0   \n",
       "2    12500       6       WD          Normal     172000                  0   \n",
       "3        0       4       WD          Normal     244000                  0   \n",
       "4        0       3       WD          Normal     189900                  1   \n",
       "5        0       6       WD          Normal     195500                  0   \n",
       "6        0       4       WD          Normal     213500                  0   \n",
       "7        0       1       WD          Normal     191500                  0   \n",
       "8        0       3       WD          Normal     236500                  1   \n",
       "9        0       6       WD          Normal     189000                  0   \n",
       "\n",
       "  years_before_selling years_after_mod  \n",
       "0                   50              50  \n",
       "1                   49              49  \n",
       "2                   52              52  \n",
       "3                   42              42  \n",
       "4                   13              12  \n",
       "5                   12              12  \n",
       "6                    9               9  \n",
       "7                   18              18  \n",
       "8                   15              14  \n",
       "9                   11              11  \n",
       "\n",
       "[10 rows x 71 columns]"
      ]
     },
     "execution_count": 31,
     "metadata": {},
     "output_type": "execute_result"
    }
   ],
   "source": [
    "house_df.head(10)"
   ]
  },
  {
   "cell_type": "code",
   "execution_count": 32,
   "metadata": {
    "collapsed": false
   },
   "outputs": [],
   "source": [
    "# Choosing some columns that we don't want to keep in the dataframe for modelling\n",
    "house_df = house_df.drop(['Order', 'PID'], axis=1)"
   ]
  },
  {
   "cell_type": "code",
   "execution_count": 33,
   "metadata": {
    "collapsed": true
   },
   "outputs": [],
   "source": [
    "# Columns that shows data leaks\n",
    "house_df = house_df.drop(['Mo Sold', 'Sale Type', 'Sale Condition'], axis=1)"
   ]
  },
  {
   "cell_type": "code",
   "execution_count": 34,
   "metadata": {
    "collapsed": false
   },
   "outputs": [
    {
     "name": "stdout",
     "output_type": "stream",
     "text": [
      "<class 'pandas.core.frame.DataFrame'>\n",
      "Int64Index: 2927 entries, 0 to 2929\n",
      "Data columns (total 66 columns):\n",
      "MS SubClass             2927 non-null int64\n",
      "MS Zoning               2927 non-null object\n",
      "Lot Area                2927 non-null int64\n",
      "Street                  2927 non-null object\n",
      "Lot Shape               2927 non-null object\n",
      "Land Contour            2927 non-null object\n",
      "Utilities               2927 non-null object\n",
      "Lot Config              2927 non-null object\n",
      "Land Slope              2927 non-null object\n",
      "Neighborhood            2927 non-null object\n",
      "Condition 1             2927 non-null object\n",
      "Condition 2             2927 non-null object\n",
      "Bldg Type               2927 non-null object\n",
      "House Style             2927 non-null object\n",
      "Overall Qual            2927 non-null int64\n",
      "Overall Cond            2927 non-null int64\n",
      "Roof Style              2927 non-null object\n",
      "Roof Matl               2927 non-null object\n",
      "Exterior 1st            2927 non-null object\n",
      "Exterior 2nd            2927 non-null object\n",
      "Mas Vnr Type            2904 non-null object\n",
      "Mas Vnr Area            2927 non-null float64\n",
      "Exter Qual              2927 non-null object\n",
      "Exter Cond              2927 non-null object\n",
      "Foundation              2927 non-null object\n",
      "Bsmt Qual               2847 non-null object\n",
      "Bsmt Cond               2847 non-null object\n",
      "Bsmt Exposure           2844 non-null object\n",
      "BsmtFin Type 1          2847 non-null object\n",
      "BsmtFin SF 1            2927 non-null float64\n",
      "BsmtFin Type 2          2846 non-null object\n",
      "BsmtFin SF 2            2927 non-null float64\n",
      "Bsmt Unf SF             2927 non-null float64\n",
      "Total Bsmt SF           2927 non-null float64\n",
      "Heating                 2927 non-null object\n",
      "Heating QC              2927 non-null object\n",
      "Central Air             2927 non-null object\n",
      "Electrical              2926 non-null object\n",
      "1st Flr SF              2927 non-null int64\n",
      "2nd Flr SF              2927 non-null int64\n",
      "Low Qual Fin SF         2927 non-null int64\n",
      "Gr Liv Area             2927 non-null int64\n",
      "Bsmt Full Bath          2927 non-null float64\n",
      "Bsmt Half Bath          2927 non-null float64\n",
      "Full Bath               2927 non-null int64\n",
      "Half Bath               2927 non-null int64\n",
      "Bedroom AbvGr           2927 non-null int64\n",
      "Kitchen AbvGr           2927 non-null int64\n",
      "Kitchen Qual            2927 non-null object\n",
      "TotRms AbvGrd           2927 non-null int64\n",
      "Functional              2927 non-null object\n",
      "Fireplaces              2927 non-null int64\n",
      "Garage Cars             2927 non-null float64\n",
      "Garage Area             2927 non-null float64\n",
      "Paved Drive             2927 non-null object\n",
      "Wood Deck SF            2927 non-null int64\n",
      "Open Porch SF           2927 non-null int64\n",
      "Enclosed Porch          2927 non-null int64\n",
      "3Ssn Porch              2927 non-null int64\n",
      "Screen Porch            2927 non-null int64\n",
      "Pool Area               2927 non-null int64\n",
      "Misc Val                2927 non-null int64\n",
      "SalePrice               2927 non-null int64\n",
      "years_until_remod       2927 non-null int64\n",
      "years_before_selling    2927 non-null int64\n",
      "years_after_mod         2927 non-null int64\n",
      "dtypes: float64(9), int64(25), object(32)\n",
      "memory usage: 1.5+ MB\n"
     ]
    }
   ],
   "source": [
    "house_df.info()"
   ]
  },
  {
   "cell_type": "code",
   "execution_count": 35,
   "metadata": {
    "collapsed": false
   },
   "outputs": [
    {
     "data": {
      "text/html": [
       "<div>\n",
       "<style scoped>\n",
       "    .dataframe tbody tr th:only-of-type {\n",
       "        vertical-align: middle;\n",
       "    }\n",
       "\n",
       "    .dataframe tbody tr th {\n",
       "        vertical-align: top;\n",
       "    }\n",
       "\n",
       "    .dataframe thead th {\n",
       "        text-align: right;\n",
       "    }\n",
       "</style>\n",
       "<table border=\"1\" class=\"dataframe\">\n",
       "  <thead>\n",
       "    <tr style=\"text-align: right;\">\n",
       "      <th></th>\n",
       "      <th>MS SubClass</th>\n",
       "      <th>MS Zoning</th>\n",
       "      <th>Lot Area</th>\n",
       "      <th>Street</th>\n",
       "      <th>Lot Shape</th>\n",
       "      <th>Land Contour</th>\n",
       "      <th>Utilities</th>\n",
       "      <th>Lot Config</th>\n",
       "      <th>Land Slope</th>\n",
       "      <th>Neighborhood</th>\n",
       "      <th>...</th>\n",
       "      <th>Open Porch SF</th>\n",
       "      <th>Enclosed Porch</th>\n",
       "      <th>3Ssn Porch</th>\n",
       "      <th>Screen Porch</th>\n",
       "      <th>Pool Area</th>\n",
       "      <th>Misc Val</th>\n",
       "      <th>SalePrice</th>\n",
       "      <th>years_until_remod</th>\n",
       "      <th>years_before_selling</th>\n",
       "      <th>years_after_mod</th>\n",
       "    </tr>\n",
       "  </thead>\n",
       "  <tbody>\n",
       "  </tbody>\n",
       "</table>\n",
       "<p>0 rows × 66 columns</p>\n",
       "</div>"
      ],
      "text/plain": [
       "Empty DataFrame\n",
       "Columns: [MS SubClass, MS Zoning, Lot Area, Street, Lot Shape, Land Contour, Utilities, Lot Config, Land Slope, Neighborhood, Condition 1, Condition 2, Bldg Type, House Style, Overall Qual, Overall Cond, Roof Style, Roof Matl, Exterior 1st, Exterior 2nd, Mas Vnr Type, Mas Vnr Area, Exter Qual, Exter Cond, Foundation, Bsmt Qual, Bsmt Cond, Bsmt Exposure, BsmtFin Type 1, BsmtFin SF 1, BsmtFin Type 2, BsmtFin SF 2, Bsmt Unf SF, Total Bsmt SF, Heating, Heating QC, Central Air, Electrical, 1st Flr SF, 2nd Flr SF, Low Qual Fin SF, Gr Liv Area, Bsmt Full Bath, Bsmt Half Bath, Full Bath, Half Bath, Bedroom AbvGr, Kitchen AbvGr, Kitchen Qual, TotRms AbvGrd, Functional, Fireplaces, Garage Cars, Garage Area, Paved Drive, Wood Deck SF, Open Porch SF, Enclosed Porch, 3Ssn Porch, Screen Porch, Pool Area, Misc Val, SalePrice, years_until_remod, years_before_selling, years_after_mod]\n",
       "Index: []\n",
       "\n",
       "[0 rows x 66 columns]"
      ]
     },
     "execution_count": 35,
     "metadata": {},
     "output_type": "execute_result"
    }
   ],
   "source": [
    "# Making Sure there are no columns that have negative salePrice\n",
    "house_df[house_df['SalePrice'] < 0]"
   ]
  },
  {
   "cell_type": "code",
   "execution_count": 36,
   "metadata": {
    "collapsed": false
   },
   "outputs": [
    {
     "data": {
      "text/plain": [
       "0"
      ]
     },
     "execution_count": 36,
     "metadata": {},
     "output_type": "execute_result"
    }
   ],
   "source": [
    "house_df['SalePrice'].isnull().sum()"
   ]
  },
  {
   "cell_type": "markdown",
   "metadata": {},
   "source": [
    "So there are no columns with null sell price."
   ]
  },
  {
   "cell_type": "markdown",
   "metadata": {
    "collapsed": true
   },
   "source": [
    "Now we update the transform_features() method with all the processing we did so far"
   ]
  },
  {
   "cell_type": "code",
   "execution_count": 37,
   "metadata": {
    "collapsed": true
   },
   "outputs": [],
   "source": [
    "def transform_features(arg_df):\n",
    "    house_df = arg_df.copy()\n",
    "    \n",
    "    # Dropping rows having grater than 5% missing values\n",
    "    null_series = house_df.isnull().sum()\n",
    "    columns_to_drop = null_series[ null_series > len(house_df)/20 ]\n",
    "    house_df = house_df.drop(columns_to_drop.index, axis = 1)\n",
    "    \n",
    "    # Filling up the missing values of the numerical columns with the mode of\n",
    "    # the columns\n",
    "    numerical_null_counts = house_df.select_dtypes(['int', 'float']).isnull().sum()\n",
    "    numerical_null_counts = numerical_null_counts[numerical_null_counts > 0]\n",
    "    # Calculating the mode of each of the columns\n",
    "    mode_df = house_df[numerical_null_counts.index].mode()\n",
    "    # Creating a dictionary from the mode_df\n",
    "    mode_dict = mode_df.to_dict(orient='records')[0]\n",
    "    # replacing the missing values of the numerical columns by this way\n",
    "    house_df = house_df.fillna(value=mode_dict)\n",
    "    \n",
    "    # New feature calculation\n",
    "    years_until_remod = house_df['Year Remod/Add'] - house_df['Year Built']\n",
    "    house_df['years_until_remod'] = years_until_remod\n",
    "    \n",
    "    years_before_selling = house_df['Yr Sold'] - house_df['Year Built']\n",
    "    house_df['years_before_selling'] = years_before_selling\n",
    "    \n",
    "    years_after_mod = house_df['Yr Sold'] - house_df['Year Remod/Add']\n",
    "    house_df['years_after_mod'] = years_after_mod\n",
    "    \n",
    "    # Dropping specific rows of the dataframe because there is negative value\n",
    "    house_df = house_df.drop([1702,2180,2181], axis=0)\n",
    "    \n",
    "    # Dropping the columns we don't need for Machine Learning\n",
    "    house_df = house_df.drop(['Yr Sold', 'Year Built', 'Year Remod/Add', 'Order', 'PID', 'Mo Sold', 'Sale Type', 'Sale Condition'], axis=1)\n",
    "    \n",
    "    return house_df\n",
    "    \n",
    "    \n"
   ]
  },
  {
   "cell_type": "markdown",
   "metadata": {},
   "source": [
    "Rewriting the train and test function for more general purpose"
   ]
  },
  {
   "cell_type": "code",
   "execution_count": 38,
   "metadata": {
    "collapsed": false
   },
   "outputs": [],
   "source": [
    "def train_and_test(df):\n",
    "    # Splitting dataset into train and test data\n",
    "    train = df.iloc[:1460,:]\n",
    "    test = df.iloc[1460:, :]\n",
    "    \n",
    "    # Selecting the numeric columns for train and test\n",
    "    num_train = train.select_dtypes(include=['int', 'float'])\n",
    "    num_test = test.select_dtypes(include=['int', 'float'])\n",
    "    \n",
    "    # getting the list of features and the target column name\n",
    "    features = num_train.columns.drop('SalePrice')\n",
    "    target = 'SalePrice'\n",
    "    \n",
    "    # creating a model\n",
    "    lr = LinearRegression()\n",
    "    \n",
    "    # training the model\n",
    "    lr.fit(train[features], train[target])\n",
    "    \n",
    "    # predicting with the model\n",
    "    test_predictions = lr.predict(test[features])\n",
    "    \n",
    "    # calculating the rmse\n",
    "    rmse = np.sqrt(mean_squared_error(test[target], test_predictions))\n",
    "    \n",
    "    return rmse"
   ]
  },
  {
   "cell_type": "code",
   "execution_count": 39,
   "metadata": {
    "collapsed": false
   },
   "outputs": [
    {
     "data": {
      "text/plain": [
       "71166.40544383308"
      ]
     },
     "execution_count": 39,
     "metadata": {},
     "output_type": "execute_result"
    }
   ],
   "source": [
    "house_df = pd.read_csv('AmesHousing.tsv', delimiter='\\t')\n",
    "transformed_df = transform_features(house_df)\n",
    "filtered_df = select_features(transformed_df)\n",
    "rmse = train_and_test(transformed_df)\n",
    "\n",
    "rmse"
   ]
  },
  {
   "cell_type": "markdown",
   "metadata": {},
   "source": [
    "# Feature Selection"
   ]
  },
  {
   "cell_type": "code",
   "execution_count": 40,
   "metadata": {
    "collapsed": false
   },
   "outputs": [],
   "source": [
    "# Selecting the numerical dataframe from the transformed train dataframes\n",
    "num_transformed = transformed_df.select_dtypes(include=['int','float'])\n",
    "\n",
    "# correlation with the salesprice column\n",
    "corr_dframe = num_transformed.corr()\n",
    "sorted_cor = corr_dframe['SalePrice'].abs().sort_values()\n",
    "# keeping only the correaltion greater than 0.3\n",
    "strong_corr = sorted_cor[sorted_cor > 0.3]"
   ]
  },
  {
   "cell_type": "code",
   "execution_count": 41,
   "metadata": {
    "collapsed": false
   },
   "outputs": [
    {
     "data": {
      "text/plain": [
       "<matplotlib.axes._subplots.AxesSubplot at 0x7f44c85831d0>"
      ]
     },
     "execution_count": 41,
     "metadata": {},
     "output_type": "execute_result"
    },
    {
     "data": {
      "image/png": "[encoded data removed]",
      "text/plain": [
       "<matplotlib.figure.Figure at 0x7f44c8575908>"
      ]
     },
     "metadata": {},
     "output_type": "display_data"
    }
   ],
   "source": [
    "import seaborn as sns\n",
    "%matplotlib inline\n",
    "\n",
    "# Filtering the train_subset with the indices of the strong_corrs\n",
    "corrmat = num_transformed[strong_corr.index].corr()\n",
    "\n",
    "sns.heatmap(corrmat)"
   ]
  },
  {
   "cell_type": "markdown",
   "metadata": {},
   "source": [
    "### Collinear Features\n",
    "\n",
    "    * TotTms AbvGrd and Gr Liv Area\n",
    "    * 1st Flr SF and Total Bsmt SF\n",
    "    * Garage Area and Garage cars\n",
    "    \n",
    "So we can drop the 1st and second cases since third case is continous variable \n",
    "that capture nuance."
   ]
  },
  {
   "cell_type": "code",
   "execution_count": 42,
   "metadata": {
    "collapsed": false
   },
   "outputs": [
    {
     "data": {
      "text/plain": [
       "Open Porch SF           0.316262\n",
       "Wood Deck SF            0.328183\n",
       "BsmtFin SF 1            0.439284\n",
       "Fireplaces              0.474831\n",
       "Mas Vnr Area            0.506983\n",
       "years_after_mod         0.534985\n",
       "Full Bath               0.546118\n",
       "years_before_selling    0.558979\n",
       "Garage Area             0.641425\n",
       "Gr Liv Area             0.717596\n",
       "Overall Qual            0.801206\n",
       "SalePrice               1.000000\n",
       "Name: SalePrice, dtype: float64"
      ]
     },
     "execution_count": 42,
     "metadata": {},
     "output_type": "execute_result"
    }
   ],
   "source": [
    "final_corr_cols = strong_corr.drop(['Garage Cars', 'TotRms AbvGrd', '1st Flr SF', 'Total Bsmt SF'])\n",
    "final_corr_cols"
   ]
  },
  {
   "cell_type": "code",
   "execution_count": 43,
   "metadata": {
    "collapsed": false
   },
   "outputs": [
    {
     "name": "stdout",
     "output_type": "stream",
     "text": [
      "<class 'pandas.core.frame.DataFrame'>\n",
      "Int64Index: 2927 entries, 0 to 2929\n",
      "Data columns (total 66 columns):\n",
      "MS SubClass             2927 non-null int64\n",
      "MS Zoning               2927 non-null object\n",
      "Lot Area                2927 non-null int64\n",
      "Street                  2927 non-null object\n",
      "Lot Shape               2927 non-null object\n",
      "Land Contour            2927 non-null object\n",
      "Utilities               2927 non-null object\n",
      "Lot Config              2927 non-null object\n",
      "Land Slope              2927 non-null object\n",
      "Neighborhood            2927 non-null object\n",
      "Condition 1             2927 non-null object\n",
      "Condition 2             2927 non-null object\n",
      "Bldg Type               2927 non-null object\n",
      "House Style             2927 non-null object\n",
      "Overall Qual            2927 non-null int64\n",
      "Overall Cond            2927 non-null int64\n",
      "Roof Style              2927 non-null object\n",
      "Roof Matl               2927 non-null object\n",
      "Exterior 1st            2927 non-null object\n",
      "Exterior 2nd            2927 non-null object\n",
      "Mas Vnr Type            2904 non-null object\n",
      "Mas Vnr Area            2927 non-null float64\n",
      "Exter Qual              2927 non-null object\n",
      "Exter Cond              2927 non-null object\n",
      "Foundation              2927 non-null object\n",
      "Bsmt Qual               2847 non-null object\n",
      "Bsmt Cond               2847 non-null object\n",
      "Bsmt Exposure           2844 non-null object\n",
      "BsmtFin Type 1          2847 non-null object\n",
      "BsmtFin SF 1            2927 non-null float64\n",
      "BsmtFin Type 2          2846 non-null object\n",
      "BsmtFin SF 2            2927 non-null float64\n",
      "Bsmt Unf SF             2927 non-null float64\n",
      "Total Bsmt SF           2927 non-null float64\n",
      "Heating                 2927 non-null object\n",
      "Heating QC              2927 non-null object\n",
      "Central Air             2927 non-null object\n",
      "Electrical              2926 non-null object\n",
      "1st Flr SF              2927 non-null int64\n",
      "2nd Flr SF              2927 non-null int64\n",
      "Low Qual Fin SF         2927 non-null int64\n",
      "Gr Liv Area             2927 non-null int64\n",
      "Bsmt Full Bath          2927 non-null float64\n",
      "Bsmt Half Bath          2927 non-null float64\n",
      "Full Bath               2927 non-null int64\n",
      "Half Bath               2927 non-null int64\n",
      "Bedroom AbvGr           2927 non-null int64\n",
      "Kitchen AbvGr           2927 non-null int64\n",
      "Kitchen Qual            2927 non-null object\n",
      "TotRms AbvGrd           2927 non-null int64\n",
      "Functional              2927 non-null object\n",
      "Fireplaces              2927 non-null int64\n",
      "Garage Cars             2927 non-null float64\n",
      "Garage Area             2927 non-null float64\n",
      "Paved Drive             2927 non-null object\n",
      "Wood Deck SF            2927 non-null int64\n",
      "Open Porch SF           2927 non-null int64\n",
      "Enclosed Porch          2927 non-null int64\n",
      "3Ssn Porch              2927 non-null int64\n",
      "Screen Porch            2927 non-null int64\n",
      "Pool Area               2927 non-null int64\n",
      "Misc Val                2927 non-null int64\n",
      "SalePrice               2927 non-null int64\n",
      "years_until_remod       2927 non-null int64\n",
      "years_before_selling    2927 non-null int64\n",
      "years_after_mod         2927 non-null int64\n",
      "dtypes: float64(9), int64(25), object(32)\n",
      "memory usage: 1.5+ MB\n"
     ]
    }
   ],
   "source": [
    "transformed_df.info()"
   ]
  },
  {
   "cell_type": "code",
   "execution_count": 44,
   "metadata": {
    "collapsed": true
   },
   "outputs": [],
   "source": [
    "# Dropping the columns that is less than the correlatio limit we set\n",
    "transformed_df = transformed_df.drop(sorted_cor[sorted_cor < 0.3].index, axis = 1)"
   ]
  },
  {
   "cell_type": "code",
   "execution_count": 45,
   "metadata": {
    "collapsed": false
   },
   "outputs": [],
   "source": [
    "# Then we drop the columns that we seem to think are collinear\n",
    "transformed_df = transformed_df.drop(['Garage Cars', 'TotRms AbvGrd', '1st Flr SF', 'Total Bsmt SF'], axis=1)"
   ]
  },
  {
   "cell_type": "code",
   "execution_count": 46,
   "metadata": {
    "collapsed": false
   },
   "outputs": [
    {
     "name": "stdout",
     "output_type": "stream",
     "text": [
      "<class 'pandas.core.frame.DataFrame'>\n",
      "Int64Index: 2927 entries, 0 to 2929\n",
      "Data columns (total 44 columns):\n",
      "MS Zoning               2927 non-null object\n",
      "Street                  2927 non-null object\n",
      "Lot Shape               2927 non-null object\n",
      "Land Contour            2927 non-null object\n",
      "Utilities               2927 non-null object\n",
      "Lot Config              2927 non-null object\n",
      "Land Slope              2927 non-null object\n",
      "Neighborhood            2927 non-null object\n",
      "Condition 1             2927 non-null object\n",
      "Condition 2             2927 non-null object\n",
      "Bldg Type               2927 non-null object\n",
      "House Style             2927 non-null object\n",
      "Overall Qual            2927 non-null int64\n",
      "Roof Style              2927 non-null object\n",
      "Roof Matl               2927 non-null object\n",
      "Exterior 1st            2927 non-null object\n",
      "Exterior 2nd            2927 non-null object\n",
      "Mas Vnr Type            2904 non-null object\n",
      "Mas Vnr Area            2927 non-null float64\n",
      "Exter Qual              2927 non-null object\n",
      "Exter Cond              2927 non-null object\n",
      "Foundation              2927 non-null object\n",
      "Bsmt Qual               2847 non-null object\n",
      "Bsmt Cond               2847 non-null object\n",
      "Bsmt Exposure           2844 non-null object\n",
      "BsmtFin Type 1          2847 non-null object\n",
      "BsmtFin SF 1            2927 non-null float64\n",
      "BsmtFin Type 2          2846 non-null object\n",
      "Heating                 2927 non-null object\n",
      "Heating QC              2927 non-null object\n",
      "Central Air             2927 non-null object\n",
      "Electrical              2926 non-null object\n",
      "Gr Liv Area             2927 non-null int64\n",
      "Full Bath               2927 non-null int64\n",
      "Kitchen Qual            2927 non-null object\n",
      "Functional              2927 non-null object\n",
      "Fireplaces              2927 non-null int64\n",
      "Garage Area             2927 non-null float64\n",
      "Paved Drive             2927 non-null object\n",
      "Wood Deck SF            2927 non-null int64\n",
      "Open Porch SF           2927 non-null int64\n",
      "SalePrice               2927 non-null int64\n",
      "years_before_selling    2927 non-null int64\n",
      "years_after_mod         2927 non-null int64\n",
      "dtypes: float64(3), int64(9), object(32)\n",
      "memory usage: 1.0+ MB\n"
     ]
    }
   ],
   "source": [
    "transformed_df.info()"
   ]
  },
  {
   "cell_type": "code",
   "execution_count": 47,
   "metadata": {
    "collapsed": true
   },
   "outputs": [],
   "source": [
    "nominal_features = [\n",
    "    'MS SubClass', 'MS Zoning', 'Street', 'Alley',\n",
    "    'Lot Shape', 'Land Contour', 'Utilities',\n",
    "    'Lot Config', 'Land Slope', 'Neighborhood',\n",
    "    'Condition 1', 'Condition 2', 'Bldg Type',\n",
    "    'House Style', 'Roof Style','Roof Mat1',\n",
    "    'Exterior 1st', 'Exterior 2nd', 'Mas Vnr Type',\n",
    "    'Foundation', 'Heating', 'Central Air', 'Electrical',\n",
    "    'Garage Type', 'Garage Finish', 'Paved Driveway',\n",
    "    'Misc Feature'\n",
    "]"
   ]
  },
  {
   "cell_type": "code",
   "execution_count": 48,
   "metadata": {
    "collapsed": false
   },
   "outputs": [],
   "source": [
    "# Checking which columns do we have with ourselves in the transformed df\n",
    "transformed_cat_cols = []\n",
    "\n",
    "for col in nominal_features:\n",
    "    if col in transformed_df.columns:\n",
    "        transformed_cat_cols.append(col)\n"
   ]
  },
  {
   "cell_type": "code",
   "execution_count": 53,
   "metadata": {
    "collapsed": false
   },
   "outputs": [
    {
     "name": "stdout",
     "output_type": "stream",
     "text": [
      "MS Zoning: 7\n",
      "Street: 2\n",
      "Lot Shape: 4\n",
      "Land Contour: 4\n",
      "Utilities: 3\n",
      "Lot Config: 5\n",
      "Land Slope: 3\n",
      "Neighborhood: 28\n",
      "Condition 1: 9\n",
      "Condition 2: 8\n",
      "Bldg Type: 5\n",
      "House Style: 8\n",
      "Roof Style: 6\n",
      "Exterior 1st: 16\n",
      "Exterior 2nd: 17\n",
      "Mas Vnr Type: 6\n",
      "Foundation: 6\n",
      "Heating: 6\n",
      "Central Air: 2\n",
      "Electrical: 6\n"
     ]
    },
    {
     "data": {
      "text/plain": [
       "0    2924\n",
       "2       2\n",
       "1       1\n",
       "dtype: int64"
      ]
     },
     "execution_count": 53,
     "metadata": {},
     "output_type": "execute_result"
    }
   ],
   "source": [
    "for col in transformed_cat_cols:\n",
    "    print(col+\":\", len(transformed_df[col].unique()))\n",
    "    transformed_df[col] = transformed_df[col].astype('category')\n"
   ]
  },
  {
   "cell_type": "markdown",
   "metadata": {},
   "source": [
    "We can see that Neighborhood and Exterior 1st and second has large unique values. We can thus filter this with another threshhold. We can set the threshold to be 20(might change it later)"
   ]
  },
  {
   "cell_type": "code",
   "execution_count": 56,
   "metadata": {
    "collapsed": false
   },
   "outputs": [
    {
     "data": {
      "text/plain": [
       "MS Zoning        7\n",
       "Street           2\n",
       "Lot Shape        4\n",
       "Land Contour     4\n",
       "Utilities        3\n",
       "Lot Config       5\n",
       "Land Slope       3\n",
       "Neighborhood    28\n",
       "Condition 1      9\n",
       "Condition 2      8\n",
       "Bldg Type        5\n",
       "House Style      8\n",
       "Roof Style       6\n",
       "Exterior 1st    16\n",
       "Exterior 2nd    17\n",
       "Mas Vnr Type     6\n",
       "Foundation       6\n",
       "Heating          6\n",
       "Central Air      2\n",
       "Electrical       6\n",
       "dtype: int64"
      ]
     },
     "execution_count": 56,
     "metadata": {},
     "output_type": "execute_result"
    }
   ],
   "source": [
    "# Getting the unique counts from the dataframe\n",
    "unique_value = transformed_df[transformed_cat_cols].apply(lambda col: len(col.unique()))\n",
    "unique_value"
   ]
  },
  {
   "cell_type": "code",
   "execution_count": 61,
   "metadata": {
    "collapsed": false
   },
   "outputs": [
    {
     "data": {
      "text/plain": [
       "Index(['Neighborhood'], dtype='object')"
      ]
     },
     "execution_count": 61,
     "metadata": {},
     "output_type": "execute_result"
    }
   ],
   "source": [
    "# Now we do the filtering of columns based on this\n",
    "to_be_dropped = unique_value[unique_value > 20].index\n",
    "to_be_dropped"
   ]
  },
  {
   "cell_type": "code",
   "execution_count": 63,
   "metadata": {
    "collapsed": false,
    "scrolled": true
   },
   "outputs": [
    {
     "ename": "ValueError",
     "evalue": "labels ['Neighborhood'] not contained in axis",
     "output_type": "error",
     "traceback": [
      "\u001b[1;31m\u001b[0m",
      "\u001b[1;31mValueError\u001b[0mTraceback (most recent call last)",
      "\u001b[1;32m<ipython-input-63-6372b300aae4>\u001b[0m in \u001b[0;36m<module>\u001b[1;34m()\u001b[0m\n\u001b[0;32m      1\u001b[0m \u001b[1;31m# we drop those columns\u001b[0m\u001b[1;33m\u001b[0m\u001b[1;33m\u001b[0m\u001b[0m\n\u001b[1;32m----> 2\u001b[1;33m \u001b[0mtransformed_df\u001b[0m \u001b[1;33m=\u001b[0m \u001b[0mtransformed_df\u001b[0m\u001b[1;33m.\u001b[0m\u001b[0mdrop\u001b[0m\u001b[1;33m(\u001b[0m\u001b[0mto_be_dropped\u001b[0m\u001b[1;33m,\u001b[0m \u001b[0maxis\u001b[0m \u001b[1;33m=\u001b[0m \u001b[1;36m1\u001b[0m\u001b[1;33m)\u001b[0m\u001b[1;33m\u001b[0m\u001b[0m\n\u001b[0m",
      "\u001b[1;32m/dataquest/system/env/python3/lib/python3.4/site-packages/pandas/core/generic.py\u001b[0m in \u001b[0;36mdrop\u001b[1;34m(self, labels, axis, index, columns, level, inplace, errors)\u001b[0m\n\u001b[0;32m   2528\u001b[0m         \u001b[1;32mfor\u001b[0m \u001b[0maxis\u001b[0m\u001b[1;33m,\u001b[0m \u001b[0mlabels\u001b[0m \u001b[1;32min\u001b[0m \u001b[0maxes\u001b[0m\u001b[1;33m.\u001b[0m\u001b[0mitems\u001b[0m\u001b[1;33m(\u001b[0m\u001b[1;33m)\u001b[0m\u001b[1;33m:\u001b[0m\u001b[1;33m\u001b[0m\u001b[0m\n\u001b[0;32m   2529\u001b[0m             \u001b[1;32mif\u001b[0m \u001b[0mlabels\u001b[0m \u001b[1;32mis\u001b[0m \u001b[1;32mnot\u001b[0m \u001b[1;32mNone\u001b[0m\u001b[1;33m:\u001b[0m\u001b[1;33m\u001b[0m\u001b[0m\n\u001b[1;32m-> 2530\u001b[1;33m                 \u001b[0mobj\u001b[0m \u001b[1;33m=\u001b[0m \u001b[0mobj\u001b[0m\u001b[1;33m.\u001b[0m\u001b[0m_drop_axis\u001b[0m\u001b[1;33m(\u001b[0m\u001b[0mlabels\u001b[0m\u001b[1;33m,\u001b[0m \u001b[0maxis\u001b[0m\u001b[1;33m,\u001b[0m \u001b[0mlevel\u001b[0m\u001b[1;33m=\u001b[0m\u001b[0mlevel\u001b[0m\u001b[1;33m,\u001b[0m \u001b[0merrors\u001b[0m\u001b[1;33m=\u001b[0m\u001b[0merrors\u001b[0m\u001b[1;33m)\u001b[0m\u001b[1;33m\u001b[0m\u001b[0m\n\u001b[0m\u001b[0;32m   2531\u001b[0m \u001b[1;33m\u001b[0m\u001b[0m\n\u001b[0;32m   2532\u001b[0m         \u001b[1;32mif\u001b[0m \u001b[0minplace\u001b[0m\u001b[1;33m:\u001b[0m\u001b[1;33m\u001b[0m\u001b[0m\n",
      "\u001b[1;32m/dataquest/system/env/python3/lib/python3.4/site-packages/pandas/core/generic.py\u001b[0m in \u001b[0;36m_drop_axis\u001b[1;34m(self, labels, axis, level, errors)\u001b[0m\n\u001b[0;32m   2560\u001b[0m                 \u001b[0mnew_axis\u001b[0m \u001b[1;33m=\u001b[0m \u001b[0maxis\u001b[0m\u001b[1;33m.\u001b[0m\u001b[0mdrop\u001b[0m\u001b[1;33m(\u001b[0m\u001b[0mlabels\u001b[0m\u001b[1;33m,\u001b[0m \u001b[0mlevel\u001b[0m\u001b[1;33m=\u001b[0m\u001b[0mlevel\u001b[0m\u001b[1;33m,\u001b[0m \u001b[0merrors\u001b[0m\u001b[1;33m=\u001b[0m\u001b[0merrors\u001b[0m\u001b[1;33m)\u001b[0m\u001b[1;33m\u001b[0m\u001b[0m\n\u001b[0;32m   2561\u001b[0m             \u001b[1;32melse\u001b[0m\u001b[1;33m:\u001b[0m\u001b[1;33m\u001b[0m\u001b[0m\n\u001b[1;32m-> 2562\u001b[1;33m                 \u001b[0mnew_axis\u001b[0m \u001b[1;33m=\u001b[0m \u001b[0maxis\u001b[0m\u001b[1;33m.\u001b[0m\u001b[0mdrop\u001b[0m\u001b[1;33m(\u001b[0m\u001b[0mlabels\u001b[0m\u001b[1;33m,\u001b[0m \u001b[0merrors\u001b[0m\u001b[1;33m=\u001b[0m\u001b[0merrors\u001b[0m\u001b[1;33m)\u001b[0m\u001b[1;33m\u001b[0m\u001b[0m\n\u001b[0m\u001b[0;32m   2563\u001b[0m             \u001b[0mdropped\u001b[0m \u001b[1;33m=\u001b[0m \u001b[0mself\u001b[0m\u001b[1;33m.\u001b[0m\u001b[0mreindex\u001b[0m\u001b[1;33m(\u001b[0m\u001b[1;33m**\u001b[0m\u001b[1;33m{\u001b[0m\u001b[0maxis_name\u001b[0m\u001b[1;33m:\u001b[0m \u001b[0mnew_axis\u001b[0m\u001b[1;33m}\u001b[0m\u001b[1;33m)\u001b[0m\u001b[1;33m\u001b[0m\u001b[0m\n\u001b[0;32m   2564\u001b[0m             \u001b[1;32mtry\u001b[0m\u001b[1;33m:\u001b[0m\u001b[1;33m\u001b[0m\u001b[0m\n",
      "\u001b[1;32m/dataquest/system/env/python3/lib/python3.4/site-packages/pandas/core/indexes/base.py\u001b[0m in \u001b[0;36mdrop\u001b[1;34m(self, labels, errors)\u001b[0m\n\u001b[0;32m   3742\u001b[0m             \u001b[1;32mif\u001b[0m \u001b[0merrors\u001b[0m \u001b[1;33m!=\u001b[0m \u001b[1;34m'ignore'\u001b[0m\u001b[1;33m:\u001b[0m\u001b[1;33m\u001b[0m\u001b[0m\n\u001b[0;32m   3743\u001b[0m                 raise ValueError('labels %s not contained in axis' %\n\u001b[1;32m-> 3744\u001b[1;33m                                  labels[mask])\n\u001b[0m\u001b[0;32m   3745\u001b[0m             \u001b[0mindexer\u001b[0m \u001b[1;33m=\u001b[0m \u001b[0mindexer\u001b[0m\u001b[1;33m[\u001b[0m\u001b[1;33m~\u001b[0m\u001b[0mmask\u001b[0m\u001b[1;33m]\u001b[0m\u001b[1;33m\u001b[0m\u001b[0m\n\u001b[0;32m   3746\u001b[0m         \u001b[1;32mreturn\u001b[0m \u001b[0mself\u001b[0m\u001b[1;33m.\u001b[0m\u001b[0mdelete\u001b[0m\u001b[1;33m(\u001b[0m\u001b[0mindexer\u001b[0m\u001b[1;33m)\u001b[0m\u001b[1;33m\u001b[0m\u001b[0m\n",
      "\u001b[1;31mValueError\u001b[0m: labels ['Neighborhood'] not contained in axis"
     ]
    }
   ],
   "source": [
    "# we drop those columns\n",
    "transformed_df = transformed_df.drop(to_be_dropped, axis = 1)"
   ]
  },
  {
   "cell_type": "code",
   "execution_count": 64,
   "metadata": {
    "collapsed": false
   },
   "outputs": [
    {
     "name": "stdout",
     "output_type": "stream",
     "text": [
      "<class 'pandas.core.frame.DataFrame'>\n",
      "Int64Index: 2927 entries, 0 to 2929\n",
      "Data columns (total 43 columns):\n",
      "MS Zoning               2927 non-null category\n",
      "Street                  2927 non-null category\n",
      "Lot Shape               2927 non-null category\n",
      "Land Contour            2927 non-null category\n",
      "Utilities               2927 non-null category\n",
      "Lot Config              2927 non-null category\n",
      "Land Slope              2927 non-null category\n",
      "Condition 1             2927 non-null category\n",
      "Condition 2             2927 non-null category\n",
      "Bldg Type               2927 non-null category\n",
      "House Style             2927 non-null category\n",
      "Overall Qual            2927 non-null int64\n",
      "Roof Style              2927 non-null category\n",
      "Roof Matl               2927 non-null object\n",
      "Exterior 1st            2927 non-null category\n",
      "Exterior 2nd            2927 non-null category\n",
      "Mas Vnr Type            2904 non-null category\n",
      "Mas Vnr Area            2927 non-null float64\n",
      "Exter Qual              2927 non-null object\n",
      "Exter Cond              2927 non-null object\n",
      "Foundation              2927 non-null category\n",
      "Bsmt Qual               2847 non-null object\n",
      "Bsmt Cond               2847 non-null object\n",
      "Bsmt Exposure           2844 non-null object\n",
      "BsmtFin Type 1          2847 non-null object\n",
      "BsmtFin SF 1            2927 non-null float64\n",
      "BsmtFin Type 2          2846 non-null object\n",
      "Heating                 2927 non-null category\n",
      "Heating QC              2927 non-null object\n",
      "Central Air             2927 non-null category\n",
      "Electrical              2926 non-null category\n",
      "Gr Liv Area             2927 non-null int64\n",
      "Full Bath               2927 non-null int64\n",
      "Kitchen Qual            2927 non-null object\n",
      "Functional              2927 non-null object\n",
      "Fireplaces              2927 non-null int64\n",
      "Garage Area             2927 non-null float64\n",
      "Paved Drive             2927 non-null object\n",
      "Wood Deck SF            2927 non-null int64\n",
      "Open Porch SF           2927 non-null int64\n",
      "SalePrice               2927 non-null int64\n",
      "years_before_selling    2927 non-null int64\n",
      "years_after_mod         2927 non-null int64\n",
      "dtypes: category(19), float64(3), int64(9), object(12)\n",
      "memory usage: 631.2+ KB\n"
     ]
    }
   ],
   "source": [
    "transformed_df.info()"
   ]
  },
  {
   "cell_type": "code",
   "execution_count": 65,
   "metadata": {
    "collapsed": true
   },
   "outputs": [],
   "source": []
  },
  {
   "cell_type": "code",
   "execution_count": null,
   "metadata": {
    "collapsed": true
   },
   "outputs": [],
   "source": []
  }
 ],
 "metadata": {
  "anaconda-cloud": {},
  "kernelspec": {
   "display_name": "Python 3",
   "language": "python",
   "name": "python3"
  },
  "language_info": {
   "codemirror_mode": {
    "name": "ipython",
    "version": 3
   },
   "file_extension": ".py",
   "mimetype": "text/x-python",
   "name": "python",
   "nbconvert_exporter": "python",
   "pygments_lexer": "ipython3",
   "version": "3.4.3"
  }
 },
 "nbformat": 4,
 "nbformat_minor": 2
}
